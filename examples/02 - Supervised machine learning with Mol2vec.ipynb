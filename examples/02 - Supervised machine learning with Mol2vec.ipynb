{
 "cells": [
  {
   "cell_type": "markdown",
   "metadata": {},
   "source": [
    "# Supervised machine learning with Mol2vec"
   ]
  },
  {
   "cell_type": "markdown",
   "metadata": {},
   "source": [
    "The notebooks illustrates how Mol2vec can be used to featurize and classify molecules using an Ames mutagenicity benchmark dataset by [Hansen et al.](http://pubs.acs.org/doi/abs/10.1021/ci900161g) as an example.\n",
    "* [Featurize the molecules using pre-trained Mol2vec model](#Featurize-the-molecules-using-pre-trained-Mol2vec-model)\n",
    "* [Train and validate Random Forest model trained using Mol2vec vectors](#Train-and-validate-Random-Forest-model-trained-using-Mol2vec-vectors)\n",
    "* [Featurize molecules from the command line](#Featurize-molecules-from-the-command-line)"
   ]
  },
  {
   "cell_type": "code",
   "execution_count": 1,
   "metadata": {
    "collapsed": true
   },
   "outputs": [],
   "source": [
    "import sys\n",
    "\n",
    "sys.path.append(\"..\")"
   ]
  },
  {
   "cell_type": "code",
   "execution_count": 2,
   "metadata": {
    "collapsed": true
   },
   "outputs": [],
   "source": [
    "import numpy as np\n",
    "import pandas as pd\n",
    "import sys, os\n",
    "\n",
    "sys.path.append(os.path.dirname(os.path.dirname(os.getcwd()))+'/mol2vec')\n",
    "\n",
    "from rdkit import Chem\n",
    "from rdkit.Chem import PandasTools\n",
    "from rdkit.Chem.Draw import IPythonConsole\n",
    "\n",
    "from mol2vec.features import mol2alt_sentence, mol2sentence, MolSentence, DfVec, sentences2vec\n",
    "from gensim.models import word2vec"
   ]
  },
  {
   "cell_type": "markdown",
   "metadata": {},
   "source": [
    "Load the pre-processed [Ames](http://pubs.acs.org/doi/suppl/10.1021/ci900161g) dataset"
   ]
  },
  {
   "cell_type": "code",
   "execution_count": 3,
   "metadata": {
    "collapsed": true
   },
   "outputs": [],
   "source": [
    "df = PandasTools.LoadSDF('data/ames.sdf')"
   ]
  },
  {
   "cell_type": "code",
   "execution_count": 4,
   "metadata": {},
   "outputs": [
    {
     "data": {
      "text/html": [
       "<div>\n",
       "<style scoped>\n",
       "    .dataframe tbody tr th:only-of-type {\n",
       "        vertical-align: middle;\n",
       "    }\n",
       "\n",
       "    .dataframe tbody tr th {\n",
       "        vertical-align: top;\n",
       "    }\n",
       "\n",
       "    .dataframe thead th {\n",
       "        text-align: right;\n",
       "    }\n",
       "</style>\n",
       "<table border=\"1\" class=\"dataframe\">\n",
       "  <thead>\n",
       "    <tr style=\"text-align: right;\">\n",
       "      <th></th>\n",
       "      <th>class</th>\n",
       "      <th>ID</th>\n",
       "      <th>ROMol</th>\n",
       "    </tr>\n",
       "  </thead>\n",
       "  <tbody>\n",
       "    <tr>\n",
       "      <th>0</th>\n",
       "      <td>0</td>\n",
       "      <td>2475-33-4</td>\n",
       "      <td style=\"text-align: center;\"><img data-content=\"rdkit/molecule\" src=\"data:image/png;base64,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\" alt=\"Mol\"/></td>\n",
       "    </tr>\n",
       "  </tbody>\n",
       "</table>\n",
       "</div>"
      ],
      "text/plain": [
       "  class          ID                                              ROMol\n",
       "0     0  2475-33-4   <img data-content=\"rdkit/molecule\" src=\"data:i..."
      ]
     },
     "execution_count": 4,
     "metadata": {},
     "output_type": "execute_result"
    }
   ],
   "source": [
    "df.head(1)"
   ]
  },
  {
   "cell_type": "code",
   "execution_count": 5,
   "metadata": {},
   "outputs": [
    {
     "data": {
      "text/plain": [
       "6506"
      ]
     },
     "execution_count": 5,
     "metadata": {},
     "output_type": "execute_result"
    }
   ],
   "source": [
    "len(df)"
   ]
  },
  {
   "cell_type": "markdown",
   "metadata": {},
   "source": [
    "### Featurize the molecules using pre-trained Mol2vec model"
   ]
  },
  {
   "cell_type": "markdown",
   "metadata": {},
   "source": [
    "Load a pre-trained Mol2vec model which was trained on 20 million compounds downloaded from ZINC using:\n",
    "\n",
    "* radius 1\n",
    "* UNK to replace all identifiers that appear less than 4 times\n",
    "* skip-gram and window size of 10\n",
    "* resulting in 300 dimensional embeddings"
   ]
  },
  {
   "cell_type": "code",
   "execution_count": 6,
   "metadata": {
    "collapsed": true
   },
   "outputs": [],
   "source": [
    "model = word2vec.Word2Vec.load('models/model_300dim.pkl')"
   ]
  },
  {
   "cell_type": "markdown",
   "metadata": {},
   "source": [
    "Generate \"molecular sentences\" that are then used to featurize the molecules (i.e. vectors of identifiers are extracted from Mol2vec model and summed up)"
   ]
  },
  {
   "cell_type": "code",
   "execution_count": 7,
   "metadata": {
    "collapsed": true
   },
   "outputs": [],
   "source": [
    "df['sentence'] = df.apply(lambda x: MolSentence(mol2alt_sentence(x['ROMol'], 1)), axis=1)\n",
    "df['mol2vec'] = [DfVec(x) for x in sentences2vec(df['sentence'], model, unseen='UNK')]"
   ]
  },
  {
   "cell_type": "markdown",
   "metadata": {},
   "source": [
    "Extract the training data from the data frame"
   ]
  },
  {
   "cell_type": "code",
   "execution_count": 8,
   "metadata": {
    "collapsed": true
   },
   "outputs": [],
   "source": [
    "X = np.array([x.vec for x in df['mol2vec']])\n",
    "y = np.array(df['class'].astype(int))"
   ]
  },
  {
   "cell_type": "markdown",
   "metadata": {},
   "source": [
    "### Train and validate Random Forest model trained using Mol2vec vectors"
   ]
  },
  {
   "cell_type": "markdown",
   "metadata": {},
   "source": [
    "Performance validation is done by stratified K-fold (4-fold CV) with shuffling"
   ]
  },
  {
   "cell_type": "code",
   "execution_count": 9,
   "metadata": {
    "collapsed": true
   },
   "outputs": [],
   "source": [
    "from sklearn.model_selection import StratifiedKFold\n",
    "from sklearn.ensemble import RandomForestClassifier"
   ]
  },
  {
   "cell_type": "code",
   "execution_count": 10,
   "metadata": {
    "collapsed": true
   },
   "outputs": [],
   "source": [
    "kf = StratifiedKFold(n_splits=4, shuffle=True, random_state=0)"
   ]
  },
  {
   "cell_type": "code",
   "execution_count": 11,
   "metadata": {
    "collapsed": true
   },
   "outputs": [],
   "source": [
    "y_values = []\n",
    "predictions = []\n",
    "probas = []\n",
    "for train, test in kf.split(X, y):\n",
    "    clf = RandomForestClassifier(n_estimators=500, random_state=0)\n",
    "    clf.fit(X[train], y[train])\n",
    "    predictions.append(clf.predict(X[test]))\n",
    "    probas.append(clf.predict_proba(X[test]).T[1]) # Probabilities for class 1\n",
    "    y_values.append(y[test])\n",
    "    del clf"
   ]
  },
  {
   "cell_type": "markdown",
   "metadata": {},
   "source": [
    "Calculate performance metrics and plot them (ROC AUC)"
   ]
  },
  {
   "cell_type": "code",
   "execution_count": 12,
   "metadata": {
    "collapsed": true
   },
   "outputs": [],
   "source": [
    "from matplotlib import pyplot as plt\n",
    "from sklearn.metrics import roc_curve, roc_auc_score"
   ]
  },
  {
   "cell_type": "code",
   "execution_count": 13,
   "metadata": {
    "collapsed": true
   },
   "outputs": [],
   "source": [
    "aucs = [roc_auc_score(y, proba) for y, proba in zip(y_values, probas)]"
   ]
  },
  {
   "cell_type": "code",
   "execution_count": 14,
   "metadata": {},
   "outputs": [
    {
     "data": {
      "text/plain": [
       "(0.8686917091204087, 0.004411664917973581)"
      ]
     },
     "execution_count": 14,
     "metadata": {},
     "output_type": "execute_result"
    }
   ],
   "source": [
    "np.mean(aucs), np.std(aucs)"
   ]
  },
  {
   "cell_type": "code",
   "execution_count": 15,
   "metadata": {},
   "outputs": [
    {
     "data": {
      "image/png": "[encoded data removed]",
      "text/plain": [
       "<Figure size 1200x300 with 4 Axes>"
      ]
     },
     "metadata": {},
     "output_type": "display_data"
    }
   ],
   "source": [
    "f, ((p1, p2, p3, p4)) = plt.subplots(1,4, squeeze=True, sharex=True, sharey=True, \n",
    "                                                    figsize=(12,3))\n",
    "\n",
    "for y,proba,ax in zip(y_values, probas, (p1,p2,p3,p4)):\n",
    "    tpr, fpr, _ = roc_curve(y, proba)\n",
    "    auc = roc_auc_score(y, proba)\n",
    "    ax.plot(tpr, fpr)\n",
    "    ax.get_xaxis().set_visible(False)\n",
    "    ax.get_yaxis().set_visible(False)\n",
    "    ax.text(0.95, 0.01, u\"%0.2f\" % auc,\n",
    "            verticalalignment='bottom', horizontalalignment='right',\n",
    "            transform=ax.transAxes, weight='bold',\n",
    "            fontsize=10)\n",
    "plt.show()"
   ]
  },
  {
   "cell_type": "markdown",
   "metadata": {},
   "source": [
    "### Featurize molecules from the command line"
   ]
  },
  {
   "cell_type": "markdown",
   "metadata": {},
   "source": [
    "Alternative to using Python functions is the command line `mol2vec` application. Type `mol2vec -h` for more information."
   ]
  },
  {
   "cell_type": "markdown",
   "metadata": {},
   "source": [
    "Calling command line application from Jupyter notebook"
   ]
  },
  {
   "cell_type": "code",
   "execution_count": 16,
   "metadata": {},
   "outputs": [
    {
     "name": "stdout",
     "output_type": "stream",
     "text": [
      "zsh:1: command not found: mol2vec\n"
     ]
    }
   ],
   "source": [
    "!mol2vec featurize -i data/ames.sdf -o data/ames.csv -m models/model_300dim.pkl --uncommon UNK -r 1 "
   ]
  },
  {
   "cell_type": "markdown",
   "metadata": {},
   "source": [
    "Load embedding generated by the `mol2vec` application"
   ]
  },
  {
   "cell_type": "code",
   "execution_count": 17,
   "metadata": {
    "collapsed": true
   },
   "outputs": [],
   "source": [
    "df_2 = pd.read_csv('data/ames.csv', index_col=[0])"
   ]
  },
  {
   "cell_type": "markdown",
   "metadata": {},
   "source": [
    "Not that unlike above where Mol2vec vectors are stored is data frame cells as DfVec objects command line application stores each dimension of the vectors as separate column (*mol2vec-000* to *mol2vec-n-dimensions*)."
   ]
  },
  {
   "cell_type": "code",
   "execution_count": 18,
   "metadata": {},
   "outputs": [
    {
     "data": {
      "text/html": [
       "<div>\n",
       "<style scoped>\n",
       "    .dataframe tbody tr th:only-of-type {\n",
       "        vertical-align: middle;\n",
       "    }\n",
       "\n",
       "    .dataframe tbody tr th {\n",
       "        vertical-align: top;\n",
       "    }\n",
       "\n",
       "    .dataframe thead th {\n",
       "        text-align: right;\n",
       "    }\n",
       "</style>\n",
       "<table border=\"1\" class=\"dataframe\">\n",
       "  <thead>\n",
       "    <tr style=\"text-align: right;\">\n",
       "      <th></th>\n",
       "      <th>ID</th>\n",
       "      <th>class</th>\n",
       "      <th>Smiles</th>\n",
       "      <th>mol2vec-000</th>\n",
       "      <th>mol2vec-001</th>\n",
       "      <th>mol2vec-002</th>\n",
       "      <th>mol2vec-003</th>\n",
       "      <th>mol2vec-004</th>\n",
       "      <th>mol2vec-005</th>\n",
       "      <th>mol2vec-006</th>\n",
       "      <th>...</th>\n",
       "      <th>mol2vec-290</th>\n",
       "      <th>mol2vec-291</th>\n",
       "      <th>mol2vec-292</th>\n",
       "      <th>mol2vec-293</th>\n",
       "      <th>mol2vec-294</th>\n",
       "      <th>mol2vec-295</th>\n",
       "      <th>mol2vec-296</th>\n",
       "      <th>mol2vec-297</th>\n",
       "      <th>mol2vec-298</th>\n",
       "      <th>mol2vec-299</th>\n",
       "    </tr>\n",
       "  </thead>\n",
       "  <tbody>\n",
       "    <tr>\n",
       "      <th>0</th>\n",
       "      <td>2475-33-4</td>\n",
       "      <td>0</td>\n",
       "      <td>O=c1c2ccccc2c(=O)c2c1ccc1c2[nH]c2c3c(=O)c4cccc...</td>\n",
       "      <td>5.456957</td>\n",
       "      <td>-4.577423</td>\n",
       "      <td>-12.368451</td>\n",
       "      <td>16.083830</td>\n",
       "      <td>-3.434435</td>\n",
       "      <td>7.834656</td>\n",
       "      <td>-19.782095</td>\n",
       "      <td>...</td>\n",
       "      <td>1.430486</td>\n",
       "      <td>26.688830</td>\n",
       "      <td>23.171576</td>\n",
       "      <td>-1.260016</td>\n",
       "      <td>-9.860835</td>\n",
       "      <td>-8.898393</td>\n",
       "      <td>-5.809005</td>\n",
       "      <td>-2.776645</td>\n",
       "      <td>-25.595627</td>\n",
       "      <td>3.428245</td>\n",
       "    </tr>\n",
       "    <tr>\n",
       "      <th>1</th>\n",
       "      <td>105149-00-6</td>\n",
       "      <td>0</td>\n",
       "      <td>CC(=O)OC1(C(C)=O)CCC2C3C=C(Cl)C4=CC(=O)OCC4(C)...</td>\n",
       "      <td>-1.448800</td>\n",
       "      <td>-4.337300</td>\n",
       "      <td>-5.178877</td>\n",
       "      <td>-1.282419</td>\n",
       "      <td>1.766603</td>\n",
       "      <td>-10.270999</td>\n",
       "      <td>-7.947514</td>\n",
       "      <td>...</td>\n",
       "      <td>-0.461931</td>\n",
       "      <td>16.831740</td>\n",
       "      <td>1.196181</td>\n",
       "      <td>0.779802</td>\n",
       "      <td>-11.972276</td>\n",
       "      <td>-11.135598</td>\n",
       "      <td>-7.943648</td>\n",
       "      <td>-0.847338</td>\n",
       "      <td>-12.080369</td>\n",
       "      <td>0.295639</td>\n",
       "    </tr>\n",
       "    <tr>\n",
       "      <th>2</th>\n",
       "      <td>108-78-1</td>\n",
       "      <td>0</td>\n",
       "      <td>Nc1nc(N)nc(N)n1</td>\n",
       "      <td>3.013881</td>\n",
       "      <td>-0.951261</td>\n",
       "      <td>-2.033241</td>\n",
       "      <td>5.549432</td>\n",
       "      <td>0.236704</td>\n",
       "      <td>1.911445</td>\n",
       "      <td>-5.053204</td>\n",
       "      <td>...</td>\n",
       "      <td>-0.225764</td>\n",
       "      <td>2.731790</td>\n",
       "      <td>3.982094</td>\n",
       "      <td>1.519018</td>\n",
       "      <td>-3.268411</td>\n",
       "      <td>-1.150581</td>\n",
       "      <td>-2.642860</td>\n",
       "      <td>0.724878</td>\n",
       "      <td>-5.361345</td>\n",
       "      <td>-0.026346</td>\n",
       "    </tr>\n",
       "    <tr>\n",
       "      <th>3</th>\n",
       "      <td>2425-85-6</td>\n",
       "      <td>1</td>\n",
       "      <td>Cc1ccc(N=Nc2c(O)ccc3ccccc23)c([N+](=O)[O-])c1</td>\n",
       "      <td>2.394809</td>\n",
       "      <td>0.218998</td>\n",
       "      <td>-4.836370</td>\n",
       "      <td>3.654727</td>\n",
       "      <td>-1.331921</td>\n",
       "      <td>2.192184</td>\n",
       "      <td>-12.556707</td>\n",
       "      <td>...</td>\n",
       "      <td>-2.438780</td>\n",
       "      <td>9.894881</td>\n",
       "      <td>10.634574</td>\n",
       "      <td>-0.291311</td>\n",
       "      <td>-5.443808</td>\n",
       "      <td>-0.568621</td>\n",
       "      <td>-5.671459</td>\n",
       "      <td>-1.188024</td>\n",
       "      <td>-6.807311</td>\n",
       "      <td>0.050133</td>\n",
       "    </tr>\n",
       "    <tr>\n",
       "      <th>4</th>\n",
       "      <td>67019-24-3</td>\n",
       "      <td>0</td>\n",
       "      <td>CC(C)CC(=O)Nc1snc2ccccc12</td>\n",
       "      <td>-0.494966</td>\n",
       "      <td>-1.786182</td>\n",
       "      <td>-2.199523</td>\n",
       "      <td>3.491824</td>\n",
       "      <td>1.604756</td>\n",
       "      <td>0.218301</td>\n",
       "      <td>-6.630700</td>\n",
       "      <td>...</td>\n",
       "      <td>2.209238</td>\n",
       "      <td>6.271803</td>\n",
       "      <td>6.540677</td>\n",
       "      <td>-0.264462</td>\n",
       "      <td>-4.927453</td>\n",
       "      <td>-0.989357</td>\n",
       "      <td>-2.540658</td>\n",
       "      <td>-3.798957</td>\n",
       "      <td>-6.871327</td>\n",
       "      <td>-0.260521</td>\n",
       "    </tr>\n",
       "  </tbody>\n",
       "</table>\n",
       "<p>5 rows × 303 columns</p>\n",
       "</div>"
      ],
      "text/plain": [
       "             ID  class                                             Smiles  \\\n",
       "0    2475-33-4       0  O=c1c2ccccc2c(=O)c2c1ccc1c2[nH]c2c3c(=O)c4cccc...   \n",
       "1  105149-00-6       0  CC(=O)OC1(C(C)=O)CCC2C3C=C(Cl)C4=CC(=O)OCC4(C)...   \n",
       "2     108-78-1       0                                    Nc1nc(N)nc(N)n1   \n",
       "3    2425-85-6       1      Cc1ccc(N=Nc2c(O)ccc3ccccc23)c([N+](=O)[O-])c1   \n",
       "4   67019-24-3       0                          CC(C)CC(=O)Nc1snc2ccccc12   \n",
       "\n",
       "   mol2vec-000  mol2vec-001  mol2vec-002  mol2vec-003  mol2vec-004  \\\n",
       "0     5.456957    -4.577423   -12.368451    16.083830    -3.434435   \n",
       "1    -1.448800    -4.337300    -5.178877    -1.282419     1.766603   \n",
       "2     3.013881    -0.951261    -2.033241     5.549432     0.236704   \n",
       "3     2.394809     0.218998    -4.836370     3.654727    -1.331921   \n",
       "4    -0.494966    -1.786182    -2.199523     3.491824     1.604756   \n",
       "\n",
       "   mol2vec-005  mol2vec-006  ...  mol2vec-290  mol2vec-291  mol2vec-292  \\\n",
       "0     7.834656   -19.782095  ...     1.430486    26.688830    23.171576   \n",
       "1   -10.270999    -7.947514  ...    -0.461931    16.831740     1.196181   \n",
       "2     1.911445    -5.053204  ...    -0.225764     2.731790     3.982094   \n",
       "3     2.192184   -12.556707  ...    -2.438780     9.894881    10.634574   \n",
       "4     0.218301    -6.630700  ...     2.209238     6.271803     6.540677   \n",
       "\n",
       "   mol2vec-293  mol2vec-294  mol2vec-295  mol2vec-296  mol2vec-297  \\\n",
       "0    -1.260016    -9.860835    -8.898393    -5.809005    -2.776645   \n",
       "1     0.779802   -11.972276   -11.135598    -7.943648    -0.847338   \n",
       "2     1.519018    -3.268411    -1.150581    -2.642860     0.724878   \n",
       "3    -0.291311    -5.443808    -0.568621    -5.671459    -1.188024   \n",
       "4    -0.264462    -4.927453    -0.989357    -2.540658    -3.798957   \n",
       "\n",
       "   mol2vec-298  mol2vec-299  \n",
       "0   -25.595627     3.428245  \n",
       "1   -12.080369     0.295639  \n",
       "2    -5.361345    -0.026346  \n",
       "3    -6.807311     0.050133  \n",
       "4    -6.871327    -0.260521  \n",
       "\n",
       "[5 rows x 303 columns]"
      ]
     },
     "execution_count": 18,
     "metadata": {},
     "output_type": "execute_result"
    }
   ],
   "source": [
    "df_2.head()"
   ]
  },
  {
   "cell_type": "markdown",
   "metadata": {},
   "source": [
    "Extracting features for the machine learning"
   ]
  },
  {
   "cell_type": "code",
   "execution_count": 19,
   "metadata": {
    "collapsed": true
   },
   "outputs": [],
   "source": [
    "X = np.array(df_2[[x for x in df_2.columns if 'mol2vec' in x]])"
   ]
  },
  {
   "cell_type": "code",
   "execution_count": 20,
   "metadata": {},
   "outputs": [
    {
     "data": {
      "text/plain": [
       "(6506, 300)"
      ]
     },
     "execution_count": 20,
     "metadata": {},
     "output_type": "execute_result"
    }
   ],
   "source": [
    "X.shape"
   ]
  },
  {
   "cell_type": "code",
   "execution_count": null,
   "metadata": {
    "collapsed": true
   },
   "outputs": [],
   "source": []
  }
 ],
 "metadata": {
  "anaconda-cloud": {},
  "kernelspec": {
   "display_name": "Python 3.9.13 ('mol2vec')",
   "language": "python",
   "name": "python3"
  },
  "language_info": {
   "codemirror_mode": {
    "name": "ipython",
    "version": 3
   },
   "file_extension": ".py",
   "mimetype": "text/x-python",
   "name": "python",
   "nbconvert_exporter": "python",
   "pygments_lexer": "ipython3",
   "version": "3.9.13"
  },
  "vscode": {
   "interpreter": {
    "hash": "00c2bdb6931b30040f338f49e8ed71e4090edf02d82ccb1604264733358a0b06"
   }
  }
 },
 "nbformat": 4,
 "nbformat_minor": 2
}
